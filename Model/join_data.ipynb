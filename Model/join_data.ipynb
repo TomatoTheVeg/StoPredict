{
 "cells": [
  {
   "cell_type": "code",
   "execution_count": 20,
   "outputs": [],
   "source": [
    "# we don't like warnings\n",
    "# you can comment the following 2 lines if you'd like to\n",
    "import warnings\n",
    "warnings.filterwarnings(\"ignore\")\n",
    "\n",
    "import numpy as np\n",
    "import pandas as pd\n",
    "%config InlineBackend.figure_format = 'retina'"
   ],
   "metadata": {
    "collapsed": false,
    "ExecuteTime": {
     "end_time": "2024-04-28T00:35:12.482466800Z",
     "start_time": "2024-04-28T00:35:12.202872600Z"
    }
   },
   "id": "c4b0f60eae421383"
  },
  {
   "cell_type": "code",
   "execution_count": 26,
   "outputs": [],
   "source": [
    "data_turk = pd.read_csv(\"T1.csv\")"
   ],
   "metadata": {
    "collapsed": false,
    "ExecuteTime": {
     "end_time": "2024-04-28T00:35:12.746816200Z",
     "start_time": "2024-04-28T00:35:12.387799900Z"
    }
   },
   "id": "41e2babb68b01079"
  },
  {
   "cell_type": "code",
   "execution_count": 27,
   "outputs": [
    {
     "data": {
      "text/plain": "          Date/Time  LV ActivePower (kW)  Wind Speed (m/s)  \\\n0  01 01 2018 00:00           380.047791          5.311336   \n1  01 01 2018 00:10           453.769196          5.672167   \n2  01 01 2018 00:20           306.376587          5.216037   \n3  01 01 2018 00:30           419.645905          5.659674   \n4  01 01 2018 00:40           380.650696          5.577941   \n\n   Theoretical_Power_Curve (KWh)  Wind Direction (°)  \n0                     416.328908          259.994904  \n1                     519.917511          268.641113  \n2                     390.900016          272.564789  \n3                     516.127569          271.258087  \n4                     491.702972          265.674286  ",
      "text/html": "<div>\n<style scoped>\n    .dataframe tbody tr th:only-of-type {\n        vertical-align: middle;\n    }\n\n    .dataframe tbody tr th {\n        vertical-align: top;\n    }\n\n    .dataframe thead th {\n        text-align: right;\n    }\n</style>\n<table border=\"1\" class=\"dataframe\">\n  <thead>\n    <tr style=\"text-align: right;\">\n      <th></th>\n      <th>Date/Time</th>\n      <th>LV ActivePower (kW)</th>\n      <th>Wind Speed (m/s)</th>\n      <th>Theoretical_Power_Curve (KWh)</th>\n      <th>Wind Direction (°)</th>\n    </tr>\n  </thead>\n  <tbody>\n    <tr>\n      <th>0</th>\n      <td>01 01 2018 00:00</td>\n      <td>380.047791</td>\n      <td>5.311336</td>\n      <td>416.328908</td>\n      <td>259.994904</td>\n    </tr>\n    <tr>\n      <th>1</th>\n      <td>01 01 2018 00:10</td>\n      <td>453.769196</td>\n      <td>5.672167</td>\n      <td>519.917511</td>\n      <td>268.641113</td>\n    </tr>\n    <tr>\n      <th>2</th>\n      <td>01 01 2018 00:20</td>\n      <td>306.376587</td>\n      <td>5.216037</td>\n      <td>390.900016</td>\n      <td>272.564789</td>\n    </tr>\n    <tr>\n      <th>3</th>\n      <td>01 01 2018 00:30</td>\n      <td>419.645905</td>\n      <td>5.659674</td>\n      <td>516.127569</td>\n      <td>271.258087</td>\n    </tr>\n    <tr>\n      <th>4</th>\n      <td>01 01 2018 00:40</td>\n      <td>380.650696</td>\n      <td>5.577941</td>\n      <td>491.702972</td>\n      <td>265.674286</td>\n    </tr>\n  </tbody>\n</table>\n</div>"
     },
     "execution_count": 27,
     "metadata": {},
     "output_type": "execute_result"
    }
   ],
   "source": [
    "data_turk.head()"
   ],
   "metadata": {
    "collapsed": false,
    "ExecuteTime": {
     "end_time": "2024-04-28T00:35:12.834459500Z",
     "start_time": "2024-04-28T00:35:12.573824300Z"
    }
   },
   "id": "14107e5f7f0fc9a5"
  },
  {
   "cell_type": "code",
   "execution_count": 28,
   "outputs": [
    {
     "data": {
      "text/plain": "       LV ActivePower (kW)  Wind Speed (m/s)  Theoretical_Power_Curve (KWh)  \\\ncount         50530.000000      50530.000000                   50530.000000   \nmean           1307.684332          7.557952                    1492.175463   \nstd            1312.459242          4.227166                    1368.018238   \nmin              -2.471405          0.000000                       0.000000   \n25%              50.677890          4.201395                     161.328167   \n50%             825.838074          7.104594                    1063.776283   \n75%            2482.507568         10.300020                    2964.972462   \nmax            3618.732910         25.206011                    3600.000000   \n\n       Wind Direction (°)  \ncount        50530.000000  \nmean           123.687559  \nstd             93.443736  \nmin              0.000000  \n25%             49.315437  \n50%             73.712978  \n75%            201.696720  \nmax            359.997589  ",
      "text/html": "<div>\n<style scoped>\n    .dataframe tbody tr th:only-of-type {\n        vertical-align: middle;\n    }\n\n    .dataframe tbody tr th {\n        vertical-align: top;\n    }\n\n    .dataframe thead th {\n        text-align: right;\n    }\n</style>\n<table border=\"1\" class=\"dataframe\">\n  <thead>\n    <tr style=\"text-align: right;\">\n      <th></th>\n      <th>LV ActivePower (kW)</th>\n      <th>Wind Speed (m/s)</th>\n      <th>Theoretical_Power_Curve (KWh)</th>\n      <th>Wind Direction (°)</th>\n    </tr>\n  </thead>\n  <tbody>\n    <tr>\n      <th>count</th>\n      <td>50530.000000</td>\n      <td>50530.000000</td>\n      <td>50530.000000</td>\n      <td>50530.000000</td>\n    </tr>\n    <tr>\n      <th>mean</th>\n      <td>1307.684332</td>\n      <td>7.557952</td>\n      <td>1492.175463</td>\n      <td>123.687559</td>\n    </tr>\n    <tr>\n      <th>std</th>\n      <td>1312.459242</td>\n      <td>4.227166</td>\n      <td>1368.018238</td>\n      <td>93.443736</td>\n    </tr>\n    <tr>\n      <th>min</th>\n      <td>-2.471405</td>\n      <td>0.000000</td>\n      <td>0.000000</td>\n      <td>0.000000</td>\n    </tr>\n    <tr>\n      <th>25%</th>\n      <td>50.677890</td>\n      <td>4.201395</td>\n      <td>161.328167</td>\n      <td>49.315437</td>\n    </tr>\n    <tr>\n      <th>50%</th>\n      <td>825.838074</td>\n      <td>7.104594</td>\n      <td>1063.776283</td>\n      <td>73.712978</td>\n    </tr>\n    <tr>\n      <th>75%</th>\n      <td>2482.507568</td>\n      <td>10.300020</td>\n      <td>2964.972462</td>\n      <td>201.696720</td>\n    </tr>\n    <tr>\n      <th>max</th>\n      <td>3618.732910</td>\n      <td>25.206011</td>\n      <td>3600.000000</td>\n      <td>359.997589</td>\n    </tr>\n  </tbody>\n</table>\n</div>"
     },
     "execution_count": 28,
     "metadata": {},
     "output_type": "execute_result"
    }
   ],
   "source": [
    "data_turk.describe()"
   ],
   "metadata": {
    "collapsed": false,
    "ExecuteTime": {
     "end_time": "2024-04-28T00:35:12.980188900Z",
     "start_time": "2024-04-28T00:35:12.618488300Z"
    }
   },
   "id": "d5d72fe658764b14"
  },
  {
   "cell_type": "code",
   "execution_count": 29,
   "outputs": [],
   "source": [
    "weather_df = pd.read_csv(\"weather2018.csv\", sep=\",\")"
   ],
   "metadata": {
    "collapsed": false,
    "ExecuteTime": {
     "end_time": "2024-04-28T00:35:13.078559200Z",
     "start_time": "2024-04-28T00:35:12.667704900Z"
    }
   },
   "id": "6e59132f12862ffa"
  },
  {
   "cell_type": "code",
   "execution_count": 30,
   "outputs": [
    {
     "data": {
      "text/plain": "               Time  Temperature(°C)  Precipitation(mm)  Cloudcover(%)  \\\n0  01 01 2018 00:00             -1.3                0.0              9   \n1  01 01 2018 00:10             -1.3                0.0              9   \n2  01 01 2018 00:20             -1.3                0.0              9   \n3  01 01 2018 00:30             -1.3                0.0              9   \n4  01 01 2018 00:40             -1.3                0.0              9   \n\n   Pressure(hPa)  Wind Speed(km / h)  Dewpoint(°C)  \n0          917.2                 8.2          -2.1  \n1          917.2                 8.2          -2.1  \n2          917.2                 8.2          -2.1  \n3          917.2                 8.2          -2.1  \n4          917.2                 8.2          -2.1  ",
      "text/html": "<div>\n<style scoped>\n    .dataframe tbody tr th:only-of-type {\n        vertical-align: middle;\n    }\n\n    .dataframe tbody tr th {\n        vertical-align: top;\n    }\n\n    .dataframe thead th {\n        text-align: right;\n    }\n</style>\n<table border=\"1\" class=\"dataframe\">\n  <thead>\n    <tr style=\"text-align: right;\">\n      <th></th>\n      <th>Time</th>\n      <th>Temperature(°C)</th>\n      <th>Precipitation(mm)</th>\n      <th>Cloudcover(%)</th>\n      <th>Pressure(hPa)</th>\n      <th>Wind Speed(km / h)</th>\n      <th>Dewpoint(°C)</th>\n    </tr>\n  </thead>\n  <tbody>\n    <tr>\n      <th>0</th>\n      <td>01 01 2018 00:00</td>\n      <td>-1.3</td>\n      <td>0.0</td>\n      <td>9</td>\n      <td>917.2</td>\n      <td>8.2</td>\n      <td>-2.1</td>\n    </tr>\n    <tr>\n      <th>1</th>\n      <td>01 01 2018 00:10</td>\n      <td>-1.3</td>\n      <td>0.0</td>\n      <td>9</td>\n      <td>917.2</td>\n      <td>8.2</td>\n      <td>-2.1</td>\n    </tr>\n    <tr>\n      <th>2</th>\n      <td>01 01 2018 00:20</td>\n      <td>-1.3</td>\n      <td>0.0</td>\n      <td>9</td>\n      <td>917.2</td>\n      <td>8.2</td>\n      <td>-2.1</td>\n    </tr>\n    <tr>\n      <th>3</th>\n      <td>01 01 2018 00:30</td>\n      <td>-1.3</td>\n      <td>0.0</td>\n      <td>9</td>\n      <td>917.2</td>\n      <td>8.2</td>\n      <td>-2.1</td>\n    </tr>\n    <tr>\n      <th>4</th>\n      <td>01 01 2018 00:40</td>\n      <td>-1.3</td>\n      <td>0.0</td>\n      <td>9</td>\n      <td>917.2</td>\n      <td>8.2</td>\n      <td>-2.1</td>\n    </tr>\n  </tbody>\n</table>\n</div>"
     },
     "execution_count": 30,
     "metadata": {},
     "output_type": "execute_result"
    }
   ],
   "source": [
    "weather_df.head()"
   ],
   "metadata": {
    "collapsed": false,
    "ExecuteTime": {
     "end_time": "2024-04-28T00:35:13.127725700Z",
     "start_time": "2024-04-28T00:35:12.843051600Z"
    }
   },
   "id": "dcb3735ea1a97ebd"
  },
  {
   "cell_type": "code",
   "execution_count": 31,
   "outputs": [
    {
     "name": "stdout",
     "output_type": "stream",
     "text": [
      "<class 'pandas.core.frame.DataFrame'>\n",
      "RangeIndex: 52560 entries, 0 to 52559\n",
      "Data columns (total 7 columns):\n",
      " #   Column              Non-Null Count  Dtype  \n",
      "---  ------              --------------  -----  \n",
      " 0   Time                52560 non-null  object \n",
      " 1   Temperature(°C)     52560 non-null  float64\n",
      " 2   Precipitation(mm)   52560 non-null  float64\n",
      " 3   Cloudcover(%)       52560 non-null  int64  \n",
      " 4   Pressure(hPa)       52560 non-null  float64\n",
      " 5   Wind Speed(km / h)  52560 non-null  float64\n",
      " 6   Dewpoint(°C)        52560 non-null  float64\n",
      "dtypes: float64(5), int64(1), object(1)\n",
      "memory usage: 2.8+ MB\n"
     ]
    }
   ],
   "source": [
    "weather_df.info()"
   ],
   "metadata": {
    "collapsed": false,
    "ExecuteTime": {
     "end_time": "2024-04-28T00:35:13.221485200Z",
     "start_time": "2024-04-28T00:35:12.876487900Z"
    }
   },
   "id": "46e4afbe51d81965"
  },
  {
   "cell_type": "code",
   "execution_count": 32,
   "outputs": [],
   "source": [
    "weather_df[\"Date/Time\"] = weather_df[\"Time\"]"
   ],
   "metadata": {
    "collapsed": false,
    "ExecuteTime": {
     "end_time": "2024-04-28T00:35:13.301266600Z",
     "start_time": "2024-04-28T00:35:12.909486900Z"
    }
   },
   "id": "8c5cab2712bb1c70"
  },
  {
   "cell_type": "code",
   "execution_count": 37,
   "outputs": [
    {
     "data": {
      "text/plain": "False"
     },
     "execution_count": 37,
     "metadata": {},
     "output_type": "execute_result"
    }
   ],
   "source": [
    "merged_df = pd.merge(data_turk, weather_df, on='Date/Time', how='inner')\n",
    "merged_df.isnull().values.any()\n"
   ],
   "metadata": {
    "collapsed": false,
    "ExecuteTime": {
     "end_time": "2024-04-28T00:40:35.145156200Z",
     "start_time": "2024-04-28T00:40:35.000797900Z"
    }
   },
   "id": "78874051b1cc9081"
  },
  {
   "cell_type": "code",
   "execution_count": 39,
   "outputs": [],
   "source": [
    "merged_df.to_csv('merged_data.csv', index= False)"
   ],
   "metadata": {
    "collapsed": false,
    "ExecuteTime": {
     "end_time": "2024-04-28T00:44:00.680090200Z",
     "start_time": "2024-04-28T00:44:00.108023600Z"
    }
   },
   "id": "83a4c711b7f31224"
  }
 ],
 "metadata": {
  "kernelspec": {
   "display_name": "Python 3",
   "language": "python",
   "name": "python3"
  },
  "language_info": {
   "codemirror_mode": {
    "name": "ipython",
    "version": 2
   },
   "file_extension": ".py",
   "mimetype": "text/x-python",
   "name": "python",
   "nbconvert_exporter": "python",
   "pygments_lexer": "ipython2",
   "version": "2.7.6"
  }
 },
 "nbformat": 4,
 "nbformat_minor": 5
}
